{
 "cells": [
  {
   "cell_type": "code",
   "execution_count": 1,
   "metadata": {},
   "outputs": [],
   "source": [
    "def solution(rank, attendance):\n",
    "    answer=[]\n",
    "    ans=0\n",
    "    for i in range(len(attendance)):\n",
    "        if attendance[i] ==True:\n",
    "            answer.append(rank[i])\n",
    "            answer.sort()\n",
    "    for i in range(len(rank)):\n",
    "        if rank[i] == answer[0]:\n",
    "            ans = i*10000\n",
    "        if rank[i] == answer[1]:\n",
    "            ans +=i*100\n",
    "        if rank[i] == answer[2]:\n",
    "            ans += i\n",
    "    return ans"
   ]
  },
  {
   "cell_type": "code",
   "execution_count": 3,
   "metadata": {},
   "outputs": [],
   "source": [
    "rank = [6, 1, 5, 2, 3, 4]\n",
    "attendance = [True, False, True, False, False, True]"
   ]
  },
  {
   "cell_type": "code",
   "execution_count": 16,
   "metadata": {},
   "outputs": [
    {
     "name": "stdout",
     "output_type": "stream",
     "text": [
      "0 0 6\n",
      "200 2 5\n",
      "50200 5 4\n"
     ]
    },
    {
     "data": {
      "text/plain": [
       "[4, 5, 6]"
      ]
     },
     "execution_count": 16,
     "metadata": {},
     "output_type": "execute_result"
    }
   ],
   "source": [
    "answer=[]\n",
    "ans=0\n",
    "for i in range(len(attendance)):\n",
    "    if attendance[i] ==True:\n",
    "        answer.append(rank[i])\n",
    "        answer.sort()\n",
    "for i in range(len(rank)):\n",
    "    if rank[i] == answer[0]:\n",
    "        ans += i*10000\n",
    "        print(ans,i,answer[0])\n",
    "    elif rank[i] == answer[1]:\n",
    "        ans +=i*100\n",
    "        print(ans,i,answer[1])\n",
    "    elif rank[i] == answer[2]:\n",
    "        ans += i\n",
    "        print(ans,i,answer[2])\n",
    "answer"
   ]
  },
  {
   "cell_type": "code",
   "execution_count": 11,
   "metadata": {},
   "outputs": [
    {
     "data": {
      "text/plain": [
       "50000"
      ]
     },
     "execution_count": 11,
     "metadata": {},
     "output_type": "execute_result"
    }
   ],
   "source": [
    "ans"
   ]
  },
  {
   "cell_type": "code",
   "execution_count": null,
   "metadata": {},
   "outputs": [],
   "source": []
  }
 ],
 "metadata": {
  "kernelspec": {
   "display_name": "Python 3",
   "language": "python",
   "name": "python3"
  },
  "language_info": {
   "codemirror_mode": {
    "name": "ipython",
    "version": 3
   },
   "file_extension": ".py",
   "mimetype": "text/x-python",
   "name": "python",
   "nbconvert_exporter": "python",
   "pygments_lexer": "ipython3",
   "version": "3.8.5"
  }
 },
 "nbformat": 4,
 "nbformat_minor": 2
}
