{
 "cells": [
  {
   "cell_type": "code",
   "execution_count": 5,
   "metadata": {},
   "outputs": [
    {
     "data": {
      "text/plain": [
       "(3, 4)"
      ]
     },
     "execution_count": 5,
     "metadata": {},
     "output_type": "execute_result"
    }
   ],
   "source": [
    "## 상하좌우\n",
    "### NXN \n",
    "# L R U D 반복적, 유저가 도착할 지점의 좌표 구하기\n",
    "#### 5\n",
    "#### R R R U D D\n",
    "\n",
    "n = int(input())\n",
    "plans = input().split()\n",
    "x,y=1,1\n",
    "\n",
    "dx = [0,0,-1,1]\n",
    "dy = [-1,1,0,0]\n",
    "\n",
    "move_types = ['L','R','U','D']\n",
    "\n",
    "for plan in plans:\n",
    "    for i in range(len(move_types)):\n",
    "        if plan == move_types[i]:\n",
    "            nx = x+dx[i]\n",
    "            ny = y+dy[i]\n",
    "    if nx<1 or ny<1 or nx>n or ny>n:\n",
    "        continue\n",
    "    x,y=nx,ny\n",
    "x,y"
   ]
  },
  {
   "cell_type": "code",
   "execution_count": 7,
   "metadata": {},
   "outputs": [
    {
     "data": {
      "text/plain": [
       "11475"
      ]
     },
     "execution_count": 7,
     "metadata": {},
     "output_type": "execute_result"
    }
   ],
   "source": [
    "## 시각\n",
    "### 00시 00분 00초에서 N시 59분 59초까지 3이 하나라도 포함되는 경우의 수\n",
    "\n",
    "n = int(input())\n",
    "count = 0\n",
    "for i in range(n+1):\n",
    "    for j in range(60):\n",
    "        for k in range(60):\n",
    "            if '3' in str(i)+str(j)+str(k):\n",
    "                count+=1\n",
    "count"
   ]
  },
  {
   "cell_type": "code",
   "execution_count": 9,
   "metadata": {},
   "outputs": [
    {
     "data": {
      "text/plain": [
       "2"
      ]
     },
     "execution_count": 9,
     "metadata": {},
     "output_type": "execute_result"
    }
   ],
   "source": [
    "## 왕실의 나이트\n",
    "### 나이트가 갈 수 있는 경우의 수\n",
    "### 8x8\n",
    "#### a1 ->2\n",
    "n = input()\n",
    "column = int(ord(n[0]))-int(ord('a'))+1\n",
    "row = int(n[1])\n",
    "\n",
    "steps = [(1,2),(2,1),(-1,-2),(-2,-1),(1,-2),(-2,1),(-1,2),(2,-1)]\n",
    "\n",
    "result = 0\n",
    "for step in steps:\n",
    "    nrow = row + step[0]\n",
    "    ncolumn = column + step[1]\n",
    "    \n",
    "    if nrow >=1 and nrow <=8 and ncolumn >=1 and nrow  <=8:\n",
    "        result+=1\n",
    "result"
   ]
  },
  {
   "cell_type": "code",
   "execution_count": null,
   "metadata": {},
   "outputs": [],
   "source": []
  }
 ],
 "metadata": {
  "kernelspec": {
   "display_name": "Python 3",
   "language": "python",
   "name": "python3"
  },
  "language_info": {
   "codemirror_mode": {
    "name": "ipython",
    "version": 3
   },
   "file_extension": ".py",
   "mimetype": "text/x-python",
   "name": "python",
   "nbconvert_exporter": "python",
   "pygments_lexer": "ipython3",
   "version": "3.8.5"
  }
 },
 "nbformat": 4,
 "nbformat_minor": 2
}
