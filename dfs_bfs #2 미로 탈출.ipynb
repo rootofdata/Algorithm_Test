{
 "cells": [
  {
   "cell_type": "code",
   "execution_count": 1,
   "metadata": {},
   "outputs": [],
   "source": [
    "# 5 6 \n",
    "\n",
    "\n",
    "from collections import deque\n",
    "\n",
    "n,m = map(int,input().split())\n",
    "\n",
    "graph = []\n",
    "for i in range(n):\n",
    "    graph.append(list(map(int,input())))\n",
    "    \n",
    "dx = [-1,1,0,0]\n",
    "dy = [0,0,-1,1]\n",
    "\n",
    "def bfs(x,y):\n",
    "    queue = deque()\n",
    "    queue.append((x,y))\n",
    "    \n",
    "    while queue:\n",
    "        x,y = queue.popleft()\n",
    "        for i in range(4):\n",
    "            nx = x+dx[i]\n",
    "            ny = y+dy[i]\n",
    "        if nx<0 or ny<0 or nx>=n or ny>=n:\n",
    "            continue\n",
    "        if graph[nx][ny]==0:\n",
    "            continue\n",
    "        if graph[nx][ny]==1:\n",
    "            graph[nx][ny] == graph[nx][ny]+1\n",
    "            queue.append((nx,ny))\n",
    "            \n",
    "    return graph[n-1][m-1]"
   ]
  }
 ],
 "metadata": {
  "kernelspec": {
   "display_name": "Python 3",
   "language": "python",
   "name": "python3"
  },
  "language_info": {
   "codemirror_mode": {
    "name": "ipython",
    "version": 3
   },
   "file_extension": ".py",
   "mimetype": "text/x-python",
   "name": "python",
   "nbconvert_exporter": "python",
   "pygments_lexer": "ipython3",
   "version": "3.8.5"
  }
 },
 "nbformat": 4,
 "nbformat_minor": 2
}
