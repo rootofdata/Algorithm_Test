{
 "cells": [
  {
   "cell_type": "code",
   "execution_count": 2,
   "metadata": {},
   "outputs": [
    {
     "data": {
      "text/plain": [
       "6"
      ]
     },
     "execution_count": 2,
     "metadata": {},
     "output_type": "execute_result"
    }
   ],
   "source": [
    "## 거스름돈\n",
    "### 500원 100원 50원 10원 거스름돈 돌려줘야하는 동전의 최소 개수\n",
    "\n",
    "n= 1260\n",
    "count = 0\n",
    "\n",
    "coin_type = [500,100,50,10]\n",
    "\n",
    "for i in coin_type:\n",
    "    count += n//i\n",
    "    n %= i   \n",
    "    \n",
    "count"
   ]
  },
  {
   "cell_type": "code",
   "execution_count": 8,
   "metadata": {},
   "outputs": [
    {
     "data": {
      "text/plain": [
       "(46, 6)"
      ]
     },
     "execution_count": 8,
     "metadata": {},
     "output_type": "execute_result"
    }
   ],
   "source": [
    "## 큰 수의 법칙\n",
    "### N , M , K\n",
    "### N은 자연수 개수, M은 총 더하는 개수, K는 중복될 수 있는 개수\n",
    "### K <= M\n",
    "\n",
    "#### 5 8 3\n",
    "#### 2 4 5 4 6   -> 6+6+6+5+6+6+6\n",
    "##### result = 46\n",
    "## solution 1\n",
    "n, m, k = map(int,input().split())\n",
    "\n",
    "data = list(map(int,input().split()))\n",
    "data.sort()\n",
    "fst = data[n-1]\n",
    "sec = data[n-2]\n",
    "\n",
    "result = 0\n",
    "\n",
    "cnt = k*(m//(k+1)) + m%(k+1)\n",
    "\n",
    "result += fst*cnt\n",
    "result += sec*(m-cnt)\n",
    "result, cnt"
   ]
  },
  {
   "cell_type": "code",
   "execution_count": 10,
   "metadata": {},
   "outputs": [],
   "source": [
    "## solution 2\n",
    "\n",
    "n,m,k=map(int,input().split())\n",
    "data = list(map(int,input().split()))\n",
    "data.sort()\n",
    "fst = data[n-1]\n",
    "sec = data[n-2]\n",
    "result = 0\n",
    "while True:\n",
    "    for i in range(k):\n",
    "        if m==0:\n",
    "            break\n",
    "        result+=fst\n",
    "        m-=1\n",
    "    if m==0:\n",
    "        break\n",
    "    result+= sec\n",
    "    m-=1\n",
    "result        "
   ]
  },
  {
   "cell_type": "code",
   "execution_count": 15,
   "metadata": {},
   "outputs": [
    {
     "data": {
      "text/plain": [
       "3"
      ]
     },
     "execution_count": 15,
     "metadata": {},
     "output_type": "execute_result"
    }
   ],
   "source": [
    "## 숫자카드게임\n",
    "### N M\n",
    "### 행들 중 가장 작은 숫자를 고르지만 최종적으로 가장 높은 숫자 고르는 것\n",
    "#### 2 4\n",
    "#### 7 3 1 8\n",
    "#### 3 3 3 4  -> 3\n",
    "#solution 1\n",
    "n, m = map(int,input().split())\n",
    "result = 0\n",
    "for i in range(n):\n",
    "    data= list(map(int,input().split()))\n",
    "    min_value = min(data)\n",
    "    result = max(result,min_value)\n",
    "result"
   ]
  },
  {
   "cell_type": "code",
   "execution_count": null,
   "metadata": {},
   "outputs": [],
   "source": [
    "# solution 2\n",
    "n, m = map(int,input().split())\n",
    "result = 0\n",
    "\n",
    "for i in range(n):\n",
    "    data = list(map(int,input().split()))\n",
    "    min_value = 10001\n",
    "    for j in data:\n",
    "        min_value = min(j,min_value)\n",
    "    result = max(min_value,result)"
   ]
  },
  {
   "cell_type": "code",
   "execution_count": 19,
   "metadata": {},
   "outputs": [
    {
     "data": {
      "text/plain": [
       "2"
      ]
     },
     "execution_count": 19,
     "metadata": {},
     "output_type": "execute_result"
    }
   ],
   "source": [
    "## 1이 될 때까지\n",
    "\n",
    "# 1을 빼거나 나누거나 한 총 횟수 구하기\n",
    "# solution 1\n",
    "n,k = map(int,input().split())\n",
    "res = 0\n",
    "\n",
    "while n>=k:\n",
    "    while n%k !=0:\n",
    "        n-=1\n",
    "        res+=1\n",
    "    n//=k\n",
    "    res+=1\n",
    "    \n",
    "while n>1:\n",
    "    n-=1\n",
    "    res+=1\n",
    "res"
   ]
  },
  {
   "cell_type": "code",
   "execution_count": 21,
   "metadata": {},
   "outputs": [
    {
     "data": {
      "text/plain": [
       "10"
      ]
     },
     "execution_count": 21,
     "metadata": {},
     "output_type": "execute_result"
    }
   ],
   "source": [
    "# solution 2\n",
    "# 26 3 -> 25 24 21 18 15 12 9 6 3 1\n",
    "n,k = map(int,input().split())\n",
    "res = 0\n",
    "\n",
    "while True:\n",
    "    target = (n//k)*k\n",
    "    result +=(n-target)\n",
    "    n = target\n",
    "    if n<k:\n",
    "        break\n",
    "    result +=1\n",
    "    n//=k\n",
    "result +=(n-1)\n",
    "\n",
    "result"
   ]
  },
  {
   "cell_type": "markdown",
   "metadata": {},
   "source": [
    "## 실전 문제"
   ]
  },
  {
   "cell_type": "code",
   "execution_count": 39,
   "metadata": {},
   "outputs": [
    {
     "ename": "TypeError",
     "evalue": "'NoneType' object is not subscriptable",
     "output_type": "error",
     "traceback": [
      "\u001b[1;31m---------------------------------------------------------------------------\u001b[0m",
      "\u001b[1;31mTypeError\u001b[0m                                 Traceback (most recent call last)",
      "\u001b[1;32m<ipython-input-39-5eff22726aef>\u001b[0m in \u001b[0;36m<module>\u001b[1;34m\u001b[0m\n\u001b[0;32m     11\u001b[0m \u001b[0mk\u001b[0m\u001b[1;33m=\u001b[0m\u001b[1;36m0\u001b[0m\u001b[1;33m\u001b[0m\u001b[1;33m\u001b[0m\u001b[0m\n\u001b[0;32m     12\u001b[0m \u001b[1;32mwhile\u001b[0m \u001b[0mn\u001b[0m\u001b[1;33m!=\u001b[0m\u001b[1;36m0\u001b[0m\u001b[1;33m:\u001b[0m\u001b[1;33m\u001b[0m\u001b[1;33m\u001b[0m\u001b[0m\n\u001b[1;32m---> 13\u001b[1;33m     \u001b[0mk\u001b[0m \u001b[1;33m=\u001b[0m \u001b[0mdata\u001b[0m\u001b[1;33m[\u001b[0m\u001b[1;33m-\u001b[0m\u001b[1;36m1\u001b[0m\u001b[1;33m]\u001b[0m\u001b[1;33m\u001b[0m\u001b[1;33m\u001b[0m\u001b[0m\n\u001b[0m\u001b[0;32m     14\u001b[0m     \u001b[1;32mfor\u001b[0m \u001b[0mi\u001b[0m \u001b[1;32min\u001b[0m \u001b[0mrange\u001b[0m\u001b[1;33m(\u001b[0m\u001b[0mk\u001b[0m\u001b[1;33m)\u001b[0m\u001b[1;33m:\u001b[0m\u001b[1;33m\u001b[0m\u001b[1;33m\u001b[0m\u001b[0m\n\u001b[0;32m     15\u001b[0m         \u001b[0mdata\u001b[0m\u001b[1;33m.\u001b[0m\u001b[0mpop\u001b[0m\u001b[1;33m(\u001b[0m\u001b[1;33m)\u001b[0m\u001b[1;33m\u001b[0m\u001b[1;33m\u001b[0m\u001b[0m\n",
      "\u001b[1;31mTypeError\u001b[0m: 'NoneType' object is not subscriptable"
     ]
    }
   ],
   "source": [
    "#1. 모험가 길드\n",
    "\n",
    "# 5\n",
    "# 2 3 1 2 2 답 2\n",
    "## 1 2 2 2 3 만든 뒤 3인것을 기준 묶음.\n",
    "n = int(input())\n",
    "data = list(map(int,input().split()))\n",
    "\n",
    "data = data.sort()\n",
    "result = 0\n",
    "k=0\n",
    "while n!=0:\n",
    "    k = data[-1]\n",
    "    for i in range(k):\n",
    "        data.pop()\n",
    "        n-=1\n",
    "    result+=1\n",
    "    \n",
    "result"
   ]
  },
  {
   "cell_type": "code",
   "execution_count": 37,
   "metadata": {},
   "outputs": [
    {
     "data": {
      "text/plain": [
       "[1, 2]"
      ]
     },
     "execution_count": 37,
     "metadata": {},
     "output_type": "execute_result"
    }
   ],
   "source": [
    "#1. 모험가 길드\n",
    "\n",
    "# 5\n",
    "# 2 3 1 2 2 답 2\n",
    "## 1 2 2 2 2 3 만든 뒤 3인것을 기준 묶음.\n",
    "# 해답지\n",
    "n = int(input())\n",
    "data = list(map(int,input().split()))\n",
    "\n",
    "data.sort()\n",
    "result = 0\n",
    "\n",
    "for i in data:\n",
    "    count +=1\n",
    "    if count >=i:\n",
    "        result +=1\n",
    "        count =0\n",
    "    \n",
    "result"
   ]
  },
  {
   "cell_type": "code",
   "execution_count": null,
   "metadata": {},
   "outputs": [],
   "source": [
    "# solution 2\n",
    "n = int(input())\n",
    "data = list(map(int,input().split()))\n",
    "\n",
    "data.sort()\n",
    "result = 0\n",
    "\n",
    "for i in data:\n",
    "    n-=i\n",
    "    result +=1\n",
    "    if n<=i:\n",
    "        break\n",
    "    \n",
    "result"
   ]
  },
  {
   "cell_type": "code",
   "execution_count": null,
   "metadata": {},
   "outputs": [],
   "source": [
    "#2. 곱하기 혹은 더하기\n",
    "# 0 - 9 \n",
    "n = int(input())\n"
   ]
  },
  {
   "cell_type": "code",
   "execution_count": null,
   "metadata": {},
   "outputs": [],
   "source": [
    "n = input()\n",
    "n_list = list(map(int,str(n)))\n",
    "result = 1\n",
    "for i in n_list:\n",
    "    if i ==0:\n",
    "        continue\n",
    "    result*=i\n",
    "result\n",
    "# 문제점 : 1일때는 더해야하는데, 그렇지 못한 코드임.."
   ]
  },
  {
   "cell_type": "code",
   "execution_count": 67,
   "metadata": {},
   "outputs": [
    {
     "data": {
      "text/plain": [
       "3"
      ]
     },
     "execution_count": 67,
     "metadata": {},
     "output_type": "execute_result"
    }
   ],
   "source": [
    "n = input()\n",
    "n_list = list(map(int,str(n)))\n",
    "result = 1\n",
    "# 0213\n",
    "if n_list[0] ==1:\n",
    "    result =0\n",
    "for i in n_list:\n",
    "    if i ==0:\n",
    "        continue\n",
    "    if i ==1:\n",
    "        result+=i\n",
    "    result*=i\n",
    "result"
   ]
  },
  {
   "cell_type": "code",
   "execution_count": 71,
   "metadata": {},
   "outputs": [
    {
     "data": {
      "text/plain": [
       "'2'"
      ]
     },
     "execution_count": 71,
     "metadata": {},
     "output_type": "execute_result"
    }
   ],
   "source": [
    "data = '12345'\n",
    "result = int(data[0])\n",
    "\n",
    "for i in range(1,len(data)):\n",
    "    num = int(data[i])\n",
    "    if num<=1 or result <=1:\n",
    "        result+=num\n",
    "    else:\n",
    "        result*=num"
   ]
  },
  {
   "cell_type": "code",
   "execution_count": 74,
   "metadata": {},
   "outputs": [
    {
     "data": {
      "text/plain": [
       "1"
      ]
     },
     "execution_count": 74,
     "metadata": {},
     "output_type": "execute_result"
    }
   ],
   "source": [
    "### 문자열 뒤집기\n",
    "\n",
    "data = input()\n",
    "count0 = 0\n",
    "count1 = 0\n",
    "\n",
    "if data[0] =='1':\n",
    "    count0 +=1\n",
    "else :\n",
    "    count1 +=1\n",
    "    \n",
    "for i in range(len(data)-1):\n",
    "    if data[i] !=data[i+1]:\n",
    "        if data[i+1]=='1':\n",
    "            count0+=1\n",
    "        else:\n",
    "            count1 +=1\n",
    "            \n",
    "min(count0,count1)"
   ]
  },
  {
   "cell_type": "code",
   "execution_count": 76,
   "metadata": {},
   "outputs": [],
   "source": [
    "### 만들 수 없는 금액\n",
    "# 5 \n",
    "# 3 2 1 1 9 ->최솟값 8원\n",
    "# 1 1 2 3 9\n",
    "n = int(input())\n",
    "data = list(map(int,input().split()))\n",
    "data.sort()\n",
    "target = 0\n",
    "for i in data:\n",
    "    if target<i:\n",
    "        break\n",
    "    target+=i"
   ]
  }
 ],
 "metadata": {
  "kernelspec": {
   "display_name": "Python 3",
   "language": "python",
   "name": "python3"
  },
  "language_info": {
   "codemirror_mode": {
    "name": "ipython",
    "version": 3
   },
   "file_extension": ".py",
   "mimetype": "text/x-python",
   "name": "python",
   "nbconvert_exporter": "python",
   "pygments_lexer": "ipython3",
   "version": "3.8.5"
  }
 },
 "nbformat": 4,
 "nbformat_minor": 2
}
