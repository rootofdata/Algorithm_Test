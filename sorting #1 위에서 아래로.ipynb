{
 "cells": [
  {
   "cell_type": "code",
   "execution_count": 4,
   "metadata": {},
   "outputs": [
    {
     "name": "stdout",
     "output_type": "stream",
     "text": [
      "271512"
     ]
    }
   ],
   "source": [
    "#3\n",
    "#15\n",
    "#27\n",
    "#12   -> 27 15 12 (나열하기)\n",
    "#sol 1\n",
    "n = int(input())\n",
    "data=[]\n",
    "for i in range(n):\n",
    "    data.append(int(input()))\n",
    "\n",
    "data = sorted(data,reverse=True)\n",
    "for i in data:\n",
    "    print(i,end=' ')"
   ]
  }
 ],
 "metadata": {
  "kernelspec": {
   "display_name": "Python 3",
   "language": "python",
   "name": "python3"
  },
  "language_info": {
   "codemirror_mode": {
    "name": "ipython",
    "version": 3
   },
   "file_extension": ".py",
   "mimetype": "text/x-python",
   "name": "python",
   "nbconvert_exporter": "python",
   "pygments_lexer": "ipython3",
   "version": "3.8.5"
  }
 },
 "nbformat": 4,
 "nbformat_minor": 2
}
