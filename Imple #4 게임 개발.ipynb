{
 "cells": [
  {
   "cell_type": "code",
   "execution_count": 1,
   "metadata": {},
   "outputs": [],
   "source": [
    "# 1,1부터 수행하며 왼쪽 방향부터 차례대로 갈 곳 정하기. 왼쪽으로 회전\n",
    "\n",
    "# NxM\n",
    "# 4 4\n",
    "# 1 1 0\n",
    "# 1 1 1 1\n",
    "# 1 0 0 1\n",
    "# 1 1 0 1\n",
    "# 1 1 1 1"
   ]
  },
  {
   "cell_type": "code",
   "execution_count": 3,
   "metadata": {},
   "outputs": [
    {
     "data": {
      "text/plain": [
       "3"
      ]
     },
     "execution_count": 3,
     "metadata": {},
     "output_type": "execute_result"
    }
   ],
   "source": [
    "n , m = map(int,input().split())\n",
    "d=[[0]*m for _ in range(n)]\n",
    "\n",
    "x,y,direction = map(int,input().split())\n",
    "d[x][y]=1\n",
    "\n",
    "array= []\n",
    "\n",
    "for i in range(n):\n",
    "    array.append(list(map(int,input().split())))\n",
    "\n",
    "     #북 동 남 서\n",
    "dx = [-1,0,1,0]\n",
    "dy = [0,1,0,-1]\n",
    "\n",
    "def turn_left():\n",
    "    global direction\n",
    "    direction -=1\n",
    "    if direction == -1:\n",
    "        direction = 3\n",
    "        \n",
    "count = 1\n",
    "turn_time = 0\n",
    "\n",
    "while True:\n",
    "    turn_left()\n",
    "    nx = x+dx[direction]\n",
    "    ny = y+dy[direction]\n",
    "    \n",
    "    if d[nx][ny]==0 and array[nx][ny]==0:\n",
    "        d[nx][ny]=1\n",
    "        x=nx\n",
    "        y=ny\n",
    "        count +=1\n",
    "        turn_time =0\n",
    "        continue\n",
    "    else:\n",
    "        turn_time +=1\n",
    "    if turn_time ==4:\n",
    "        nx=x-dx[direction]\n",
    "        ny=y-dy[direction]\n",
    "        \n",
    "        if array[nx][ny]==0:\n",
    "            x=nx\n",
    "            y=ny\n",
    "        else:\n",
    "            break\n",
    "        turn_time=0\n",
    "count"
   ]
  },
  {
   "cell_type": "code",
   "execution_count": null,
   "metadata": {},
   "outputs": [],
   "source": [
    "1"
   ]
  }
 ],
 "metadata": {
  "kernelspec": {
   "display_name": "Python 3",
   "language": "python",
   "name": "python3"
  },
  "language_info": {
   "codemirror_mode": {
    "name": "ipython",
    "version": 3
   },
   "file_extension": ".py",
   "mimetype": "text/x-python",
   "name": "python",
   "nbconvert_exporter": "python",
   "pygments_lexer": "ipython3",
   "version": "3.8.5"
  }
 },
 "nbformat": 4,
 "nbformat_minor": 2
}
