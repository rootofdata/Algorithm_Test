{
 "cells": [
  {
   "cell_type": "code",
   "execution_count": 1,
   "metadata": {},
   "outputs": [],
   "source": [
    "# 1. x/5\n",
    "# 2. x/3\n",
    "# 3. x/2\n",
    "# 4. x-1"
   ]
  },
  {
   "cell_type": "code",
   "execution_count": 2,
   "metadata": {},
   "outputs": [
    {
     "data": {
      "text/plain": [
       "2"
      ]
     },
     "execution_count": 2,
     "metadata": {},
     "output_type": "execute_result"
    }
   ],
   "source": [
    "x=26 -> 13 12 4 2 1\n",
    "\n",
    "x=30 \n",
    "result = 0\n",
    "while x>1:\n",
    "    if x%5==0:\n",
    "        x%=5\n",
    "        result+=1\n",
    "    elif x%3==0:\n",
    "        x%=3\n",
    "        result+=1\n",
    "    elif x%2==0:\n",
    "        x%=2\n",
    "        result+=1\n",
    "    else: x-=1\n",
    "    result+=1\n",
    "result\n",
    "    "
   ]
  },
  {
   "cell_type": "code",
   "execution_count": 3,
   "metadata": {},
   "outputs": [
    {
     "data": {
      "text/plain": [
       "3"
      ]
     },
     "execution_count": 3,
     "metadata": {},
     "output_type": "execute_result"
    }
   ],
   "source": [
    "x= 26\n",
    "\n",
    "d=[0]*30001\n",
    "\n",
    "for i in range(2,x+1):\n",
    "    d[i]=d[i-1]+1\n",
    "    if i%2==0:\n",
    "        d[i]=min(d[i],d[i//2]+1)\n",
    "    if i%3==0:\n",
    "        d[i]=min(d[i],d[i//3]+1)\n",
    "    if i%5==0:\n",
    "        d[i]=min(d[i],d[i//5]+1)     \n",
    "d[x]"
   ]
  },
  {
   "cell_type": "code",
   "execution_count": null,
   "metadata": {},
   "outputs": [],
   "source": []
  }
 ],
 "metadata": {
  "kernelspec": {
   "display_name": "Python 3",
   "language": "python",
   "name": "python3"
  },
  "language_info": {
   "codemirror_mode": {
    "name": "ipython",
    "version": 3
   },
   "file_extension": ".py",
   "mimetype": "text/x-python",
   "name": "python",
   "nbconvert_exporter": "python",
   "pygments_lexer": "ipython3",
   "version": "3.8.5"
  }
 },
 "nbformat": 4,
 "nbformat_minor": 2
}
