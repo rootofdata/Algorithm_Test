{
 "cells": [
  {
   "cell_type": "code",
   "execution_count": 1,
   "metadata": {},
   "outputs": [],
   "source": [
    "# 나이트가 갈 수 있는 경우의 수 구하기\n",
    "\n",
    "#a1 -> 2가지"
   ]
  },
  {
   "cell_type": "code",
   "execution_count": 4,
   "metadata": {},
   "outputs": [
    {
     "data": {
      "text/plain": [
       "2"
      ]
     },
     "execution_count": 4,
     "metadata": {},
     "output_type": "execute_result"
    }
   ],
   "source": [
    "data = input()\n",
    "row = int(data[1])\n",
    "column = int(ord(data[0]))-int(ord('a'))+1\n",
    "result = 0\n",
    "steps = [(-2,-1),(-1,-2),(1,2),(2,1),(1,-2),(-2,1),(-1,2),(2,-1)]\n",
    "\n",
    "result = 0\n",
    "for step in steps:\n",
    "    next_row = row+step[0]\n",
    "    next_column = column+step[1]\n",
    "    \n",
    "    if next_row>=1 and next_row<=8 and next_column>=1 and next_column<=8:\n",
    "        result +=1\n",
    "result"
   ]
  }
 ],
 "metadata": {
  "kernelspec": {
   "display_name": "Python 3",
   "language": "python",
   "name": "python3"
  },
  "language_info": {
   "codemirror_mode": {
    "name": "ipython",
    "version": 3
   },
   "file_extension": ".py",
   "mimetype": "text/x-python",
   "name": "python",
   "nbconvert_exporter": "python",
   "pygments_lexer": "ipython3",
   "version": "3.8.5"
  }
 },
 "nbformat": 4,
 "nbformat_minor": 2
}
