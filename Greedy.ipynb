{
 "cells": [
  {
   "cell_type": "markdown",
   "metadata": {},
   "source": [
    "### 거스름돈"
   ]
  },
  {
   "cell_type": "code",
   "execution_count": 6,
   "metadata": {},
   "outputs": [
    {
     "name": "stdout",
     "output_type": "stream",
     "text": [
      "6\n"
     ]
    }
   ],
   "source": [
    "n= 1260\n",
    "result = 0\n",
    "\n",
    "coin =[500,100,50,10]\n",
    "\n",
    "for i in coin:\n",
    "    result += n//i\n",
    "    n %= i\n",
    "    \n",
    "print (result)"
   ]
  },
  {
   "cell_type": "code",
   "execution_count": 13,
   "metadata": {},
   "outputs": [
    {
     "name": "stdout",
     "output_type": "stream",
     "text": [
      "46\n"
     ]
    }
   ],
   "source": [
    "### 5 8 3\n",
    "### 2 4 5 4 6\n",
    "# solution 1\n",
    "n, m, k =map(int,input().split())\n",
    "data = list(map(int,input().split()))\n",
    "result = 0\n",
    "data.sort()\n",
    "fst = data[n-1]\n",
    "sec = data[n-2]\n",
    "\n",
    "while True:\n",
    "    for i in range(k):\n",
    "        if m<=0:\n",
    "            break\n",
    "        result += fst\n",
    "        m-=1\n",
    "    if m==0:\n",
    "        break\n",
    "    result+=sec\n",
    "    m-=1\n",
    "print(result)"
   ]
  },
  {
   "cell_type": "code",
   "execution_count": 6,
   "metadata": {},
   "outputs": [
    {
     "name": "stdout",
     "output_type": "stream",
     "text": [
      "52 6 5 7\n"
     ]
    }
   ],
   "source": [
    "# solution 2\n",
    "\n",
    "# 5 9 3\n",
    "# 2 4 5 4 6\n",
    "# 6 6 6 5 6 6 6 5 6\n",
    "# int(M / (k+1)*k + M%(k+1))\n",
    "\n",
    "n,m,k = map(int,input().split())\n",
    "data = list(map(int,input().split()))\n",
    "\n",
    "data.sort()\n",
    "fst = data[n-1]\n",
    "sec = data[n-2]\n",
    "\n",
    "res = 0\n",
    "cnt = int(m/(k+1))*k + m%(k+1)\n",
    "\n",
    "res = fst*cnt + sec*(m-cnt)\n",
    "\n",
    "print(res,fst,sec,cnt)"
   ]
  },
  {
   "cell_type": "markdown",
   "metadata": {},
   "source": [
    "### 숫자 카드 게임"
   ]
  },
  {
   "cell_type": "code",
   "execution_count": null,
   "metadata": {},
   "outputs": [],
   "source": [
    "d"
   ]
  },
  {
   "cell_type": "code",
   "execution_count": null,
   "metadata": {},
   "outputs": [],
   "source": []
  },
  {
   "cell_type": "code",
   "execution_count": null,
   "metadata": {},
   "outputs": [],
   "source": []
  },
  {
   "cell_type": "markdown",
   "metadata": {},
   "source": []
  }
 ],
 "metadata": {
  "kernelspec": {
   "display_name": "Python 3",
   "language": "python",
   "name": "python3"
  },
  "language_info": {
   "codemirror_mode": {
    "name": "ipython",
    "version": 3
   },
   "file_extension": ".py",
   "mimetype": "text/x-python",
   "name": "python",
   "nbconvert_exporter": "python",
   "pygments_lexer": "ipython3",
   "version": "3.8.5"
  }
 },
 "nbformat": 4,
 "nbformat_minor": 2
}
