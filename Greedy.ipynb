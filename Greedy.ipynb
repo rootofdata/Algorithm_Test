{
 "cells": [
  {
   "cell_type": "markdown",
   "metadata": {},
   "source": [
    "### 거스름돈"
   ]
  },
  {
   "cell_type": "code",
   "execution_count": 6,
   "metadata": {},
   "outputs": [
    {
     "name": "stdout",
     "output_type": "stream",
     "text": [
      "6\n"
     ]
    }
   ],
   "source": [
    "n= 1260\n",
    "result = 0\n",
    "\n",
    "coin =[500,100,50,10]\n",
    "\n",
    "for i in coin:\n",
    "    result += n//i\n",
    "    n %= i\n",
    "    \n",
    "print (result)"
   ]
  },
  {
   "cell_type": "code",
   "execution_count": 13,
   "metadata": {},
   "outputs": [
    {
     "name": "stdout",
     "output_type": "stream",
     "text": [
      "46\n"
     ]
    }
   ],
   "source": [
    "### 5 8 3\n",
    "### 2 4 5 4 6\n",
    "# solution 1\n",
    "n, m, k =map(int,input().split())\n",
    "data = list(map(int,input().split()))\n",
    "result = 0\n",
    "data.sort()\n",
    "fst = data[n-1]\n",
    "sec = data[n-2]\n",
    "\n",
    "while True:\n",
    "    for i in range(k):\n",
    "        if m<=0:\n",
    "            break\n",
    "        result += fst\n",
    "        m-=1\n",
    "    if m==0:\n",
    "        break\n",
    "    result+=sec\n",
    "    m-=1\n",
    "print(result)"
   ]
  },
  {
   "cell_type": "code",
   "execution_count": 6,
   "metadata": {},
   "outputs": [
    {
     "name": "stdout",
     "output_type": "stream",
     "text": [
      "52 6 5 7\n"
     ]
    }
   ],
   "source": [
    "# solution 2\n",
    "\n",
    "# 5 9 3\n",
    "# 2 4 5 4 6\n",
    "# 6 6 6 5 6 6 6 5 6\n",
    "# int(M / (k+1)*k + M%(k+1))\n",
    "\n",
    "n,m,k = map(int,input().split())\n",
    "data = list(map(int,input().split()))\n",
    "\n",
    "data.sort()\n",
    "fst = data[n-1]\n",
    "sec = data[n-2]\n",
    "\n",
    "res = 0\n",
    "cnt = int(m/(k+1))*k + m%(k+1)\n",
    "\n",
    "res = fst*cnt + sec*(m-cnt)\n",
    "\n",
    "print(res,fst,sec,cnt)"
   ]
  },
  {
   "cell_type": "markdown",
   "metadata": {},
   "source": [
    "### 숫자 카드 게임\n",
    "\n",
    "n x m  \n",
    "행에서 가장 작은 숫자들 중에 가장 큰 숫자를 고르는 게임"
   ]
  },
  {
   "cell_type": "code",
   "execution_count": 11,
   "metadata": {},
   "outputs": [
    {
     "data": {
      "text/plain": [
       "2"
      ]
     },
     "execution_count": 11,
     "metadata": {},
     "output_type": "execute_result"
    }
   ],
   "source": [
    "# solution 1\n",
    "n , m = map(int,input().split())\n",
    "res = 0\n",
    "for i in range(n):\n",
    "    data = list(map(int,input().split()))\n",
    "    cnt = min(data)\n",
    "    res = max(cnt,res)\n",
    "    \n",
    "res"
   ]
  },
  {
   "cell_type": "code",
   "execution_count": 14,
   "metadata": {},
   "outputs": [
    {
     "data": {
      "text/plain": [
       "3"
      ]
     },
     "execution_count": 14,
     "metadata": {},
     "output_type": "execute_result"
    }
   ],
   "source": [
    "# solution 2\n",
    "\n",
    "n , m = map(int,input().split())\n",
    "res = 0\n",
    "for i in range(n):\n",
    "    data = list(map(int,input().split()))\n",
    "    mina = 10000001\n",
    "    for j in data:\n",
    "        mina = min(j,mina)\n",
    "    res = max(mina,res)\n",
    "    \n",
    "res"
   ]
  },
  {
   "cell_type": "markdown",
   "metadata": {},
   "source": [
    "#### 1이 될 때까지\n",
    "\n",
    "N이 1이 될 때까지  \n",
    "N을 K로 나눈다.  \n",
    "실행 최소 회수 구하기"
   ]
  },
  {
   "cell_type": "code",
   "execution_count": 17,
   "metadata": {},
   "outputs": [
    {
     "data": {
      "text/plain": [
       "2"
      ]
     },
     "execution_count": 17,
     "metadata": {},
     "output_type": "execute_result"
    }
   ],
   "source": [
    "# solution 1\n",
    "# 25 5\n",
    "n, k = map(int,input().split())\n",
    "res = 0 \n",
    "\n",
    "while n>=k:\n",
    "    while n%k !=0:\n",
    "        n-=1\n",
    "        res+=1\n",
    "    n //= k\n",
    "    res +=1\n",
    "while n>1:\n",
    "    n-=1\n",
    "    res+=1\n",
    "res"
   ]
  },
  {
   "cell_type": "code",
   "execution_count": 18,
   "metadata": {},
   "outputs": [
    {
     "data": {
      "text/plain": [
       "2"
      ]
     },
     "execution_count": 18,
     "metadata": {},
     "output_type": "execute_result"
    }
   ],
   "source": [
    "n, k = map(int,input().split())\n",
    "res = 0\n",
    "\n",
    "while True:\n",
    "    target = (n//k)*k\n",
    "    res += n-target\n",
    "    n = target\n",
    "    \n",
    "    if n<k:\n",
    "        break\n",
    "    res +=1\n",
    "    n //=k\n",
    "    \n",
    "res += (n-1)\n",
    "\n",
    "res"
   ]
  },
  {
   "cell_type": "markdown",
   "metadata": {},
   "source": [
    "#### 상하좌우"
   ]
  },
  {
   "cell_type": "code",
   "execution_count": null,
   "metadata": {},
   "outputs": [],
   "source": [
    "n = int(input())\n",
    "x, y = 1,1\n",
    "\n",
    "plans = input().split()\n",
    "dx = [0,0,-1,1]\n",
    "dy = [-1,1,0,0]\n",
    "\n",
    "move_type = ['L','R','U','D']\n",
    "\n",
    "for plan in plans:\n",
    "    for i in range(len(move_type)):\n",
    "        if plan == move_type[i]:\n",
    "            nx = x+dx[i]\n",
    "            ny = y+dy[i]\n",
    "    if nx<1 or ny<1 or nx>n or ny>n:\n",
    "        continue\n",
    "            "
   ]
  },
  {
   "cell_type": "markdown",
   "metadata": {},
   "source": [
    "#### 시각\n",
    "\n",
    "정수 N이 입력되면 00시 00분 00초부터 N시 00분 00초까지 3이 하나라도 포함되는 모든 경우의 수를 구하는 프로그램 작성"
   ]
  },
  {
   "cell_type": "code",
   "execution_count": 20,
   "metadata": {},
   "outputs": [
    {
     "data": {
      "text/plain": [
       "11475"
      ]
     },
     "execution_count": 20,
     "metadata": {},
     "output_type": "execute_result"
    }
   ],
   "source": [
    "h = int(input())\n",
    "\n",
    "count = 0\n",
    "for i in range(h+1):\n",
    "    for j in range(60):\n",
    "        for k in range(60):\n",
    "            if '3' in str(i)+str(j)+str(k):\n",
    "                count +=1\n",
    "count"
   ]
  },
  {
   "cell_type": "markdown",
   "metadata": {},
   "source": [
    "#### 왕실의 나이트"
   ]
  },
  {
   "cell_type": "code",
   "execution_count": 25,
   "metadata": {},
   "outputs": [
    {
     "data": {
      "text/plain": [
       "2"
      ]
     },
     "execution_count": 25,
     "metadata": {},
     "output_type": "execute_result"
    }
   ],
   "source": [
    "inputdata = input()\n",
    "\n",
    "row = int(inputdata[1])\n",
    "column = int(ord(inputdata[0]))-int(ord('a'))+1\n",
    "steps = [(-2,-1),(-1,-2),(-2,1),(-1,2),(1,-2),(2,-1),(1,2),(2,1)]\n",
    "\n",
    "res = 0\n",
    "for step in steps:\n",
    "    next_row = row+step[0]\n",
    "    next_column = column + step[1]\n",
    "    if next_row >= 1 and next_row <=8 and next_column>=1 and next_column <=8:\n",
    "        res+=1\n",
    "res"
   ]
  },
  {
   "cell_type": "markdown",
   "metadata": {},
   "source": [
    "#### 게임 개발"
   ]
  },
  {
   "cell_type": "markdown",
   "metadata": {},
   "source": []
  }
 ],
 "metadata": {
  "kernelspec": {
   "display_name": "Python 3",
   "language": "python",
   "name": "python3"
  },
  "language_info": {
   "codemirror_mode": {
    "name": "ipython",
    "version": 3
   },
   "file_extension": ".py",
   "mimetype": "text/x-python",
   "name": "python",
   "nbconvert_exporter": "python",
   "pygments_lexer": "ipython3",
   "version": "3.8.5"
  }
 },
 "nbformat": 4,
 "nbformat_minor": 2
}
