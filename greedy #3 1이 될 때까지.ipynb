{
 "cells": [
  {
   "cell_type": "code",
   "execution_count": 1,
   "metadata": {},
   "outputs": [],
   "source": [
    "# 1이 될 때까지\n",
    "\n",
    "## 1. N-1\n",
    "## 2. N을 K로 나눈다.\n",
    "## 25 5  -> 2"
   ]
  },
  {
   "cell_type": "code",
   "execution_count": 4,
   "metadata": {},
   "outputs": [
    {
     "data": {
      "text/plain": [
       "3"
      ]
     },
     "execution_count": 4,
     "metadata": {},
     "output_type": "execute_result"
    }
   ],
   "source": [
    "# solution 1\n",
    "N, K = map(int,input().split())\n",
    "result = 0\n",
    "while True:\n",
    "    if N%K ==0:\n",
    "        N=N/K\n",
    "        result+=1\n",
    "    else:\n",
    "        N=N-1\n",
    "        result+=1\n",
    "    if N==0:\n",
    "        break\n",
    "result-1"
   ]
  },
  {
   "cell_type": "code",
   "execution_count": 5,
   "metadata": {},
   "outputs": [],
   "source": [
    "# solution2\n",
    "\n",
    "n, k  = map(int,input().split())\n",
    "result = 0\n",
    "\n",
    "while True:\n",
    "    target = (n//k)*k\n",
    "    result += (n-target)\n",
    "    n = target\n",
    "    if n<k:\n",
    "        break\n",
    "    result +=1\n",
    "    n//=k\n",
    "result += (n-1)\n",
    "\n",
    "result"
   ]
  }
 ],
 "metadata": {
  "kernelspec": {
   "display_name": "Python 3",
   "language": "python",
   "name": "python3"
  },
  "language_info": {
   "codemirror_mode": {
    "name": "ipython",
    "version": 3
   },
   "file_extension": ".py",
   "mimetype": "text/x-python",
   "name": "python",
   "nbconvert_exporter": "python",
   "pygments_lexer": "ipython3",
   "version": "3.8.5"
  }
 },
 "nbformat": 4,
 "nbformat_minor": 2
}
