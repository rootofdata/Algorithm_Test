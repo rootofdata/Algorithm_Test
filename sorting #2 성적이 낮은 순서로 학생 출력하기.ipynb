{
 "cells": [
  {
   "cell_type": "code",
   "execution_count": 1,
   "metadata": {},
   "outputs": [],
   "source": [
    "# 2\n",
    "# 홍길동 95\n",
    "# 이순신 77"
   ]
  },
  {
   "cell_type": "code",
   "execution_count": 3,
   "metadata": {},
   "outputs": [
    {
     "name": "stdout",
     "output_type": "stream",
     "text": [
      "홍길동 서영석 "
     ]
    }
   ],
   "source": [
    "a = int(input())\n",
    "array=[]\n",
    "for i in range(a):\n",
    "    data = input().split()\n",
    "    array.append((data[0],int(data[1])))\n",
    "    \n",
    "array = sorted(array,key=lambda student:student[1])\n",
    "\n",
    "for student in array:\n",
    "    print(student[0],end=' ')"
   ]
  }
 ],
 "metadata": {
  "kernelspec": {
   "display_name": "Python 3",
   "language": "python",
   "name": "python3"
  },
  "language_info": {
   "codemirror_mode": {
    "name": "ipython",
    "version": 3
   },
   "file_extension": ".py",
   "mimetype": "text/x-python",
   "name": "python",
   "nbconvert_exporter": "python",
   "pygments_lexer": "ipython3",
   "version": "3.8.5"
  }
 },
 "nbformat": 4,
 "nbformat_minor": 2
}
