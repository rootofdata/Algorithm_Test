{
 "cells": [
  {
   "cell_type": "markdown",
   "metadata": {},
   "source": [
    "문제  \n",
    "총 N개의 정수가 주어졌을 때, 정수 v가 몇 개인지 구하는 프로그램을 작성하시오.\n",
    "\n",
    "입력  \n",
    "첫째 줄에 정수의 개수 N(1 ≤ N ≤ 100)이 주어진다. 둘째 줄에는 정수가 공백으로 구분되어져있다. 셋째 줄에는 찾으려고 하는 정수 v가 주어진다. 입력으로 주어지는 정수와 v는 -100보다 크거나 같으며, 100보다 작거나 같다.\n",
    "\n",
    "출력  \n",
    "첫째 줄에 입력으로 주어진 N개의 정수 중에 v가 몇 개인지 출력한다.\n",
    "  \n",
    "예제 입력 1   \n",
    "11   \n",
    "1 4 1 2 4 2 4 2 3 4 4  \n",
    "2  \n",
    "예제 출력 1     \n",
    "3  \n",
    "  \n",
    "예제 입력 2   \n",
    "11  \n",
    "1 4 1 2 4 2 4 2 3 4 4  \n",
    "5  \n",
    "예제 출력 2   \n",
    "0   "
   ]
  },
  {
   "cell_type": "code",
   "execution_count": 8,
   "metadata": {},
   "outputs": [
    {
     "name": "stdout",
     "output_type": "stream",
     "text": [
      "3\n"
     ]
    }
   ],
   "source": [
    "n = int(input())\n",
    "a = list(map(int,input().split()))\n",
    "v = int(input())\n",
    "answer = 0\n",
    "for i in range(n):\n",
    "    if a[i]==v:\n",
    "        answer+=1\n",
    "print(answer)"
   ]
  }
 ],
 "metadata": {
  "kernelspec": {
   "display_name": "Python 3",
   "language": "python",
   "name": "python3"
  },
  "language_info": {
   "codemirror_mode": {
    "name": "ipython",
    "version": 3
   },
   "file_extension": ".py",
   "mimetype": "text/x-python",
   "name": "python",
   "nbconvert_exporter": "python",
   "pygments_lexer": "ipython3",
   "version": "3.8.5"
  }
 },
 "nbformat": 4,
 "nbformat_minor": 2
}
