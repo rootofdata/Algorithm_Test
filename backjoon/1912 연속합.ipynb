{
 "cells": [
  {
   "cell_type": "code",
   "execution_count": 11,
   "metadata": {},
   "outputs": [
    {
     "data": {
      "text/plain": [
       "[-1001, -1001, -1001, -1001, -1001, -1001, -1001, -1001, -1001, -1001]"
      ]
     },
     "execution_count": 11,
     "metadata": {},
     "output_type": "execute_result"
    }
   ],
   "source": [
    "import sys\n",
    "read = sys.stdin.readline\n",
    "\n",
    "N = int(read())\n",
    "arr = [0] + list(map(int, read().split()))\n",
    "cache = [-1001] * (N+1)\n",
    "\n",
    "for n in range(1, N+1):\n",
    "    cache[n] = max(arr[n], cache[n-1] + arr[n])\n",
    "print(max(cache))"
   ]
  }
 ],
 "metadata": {
  "kernelspec": {
   "display_name": "Python 3",
   "language": "python",
   "name": "python3"
  },
  "language_info": {
   "codemirror_mode": {
    "name": "ipython",
    "version": 3
   },
   "file_extension": ".py",
   "mimetype": "text/x-python",
   "name": "python",
   "nbconvert_exporter": "python",
   "pygments_lexer": "ipython3",
   "version": "3.8.5"
  }
 },
 "nbformat": 4,
 "nbformat_minor": 2
}
